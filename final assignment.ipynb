{
  "metadata": {
    "language_info": {
      "codemirror_mode": {
        "name": "python",
        "version": 3
      },
      "file_extension": ".py",
      "mimetype": "text/x-python",
      "name": "python",
      "nbconvert_exporter": "python",
      "pygments_lexer": "ipython3",
      "version": "3.8"
    },
    "kernelspec": {
      "name": "python",
      "display_name": "Pyolite",
      "language": "python"
    }
  },
  "nbformat_minor": 4,
  "nbformat": 4,
  "cells": [
    {
      "cell_type": "markdown",
      "source": "My Jupyter Notebook on IBM Watson Studio",
      "metadata": {}
    },
    {
      "cell_type": "markdown",
      "source": "Najeeb Ghaleb - Telecom Engineer ",
      "metadata": {}
    },
    {
      "cell_type": "markdown",
      "source": "I am interested in data science because I like to analysis data to get valuable insights and tell stories.",
      "metadata": {}
    },
    {
      "cell_type": "markdown",
      "source": "#This code for just practicing",
      "metadata": {}
    },
    {
      "cell_type": "code",
      "source": "print(\"================== Hello Gent==================\" )\nname = input (\"Type your Name\")\nprint(f'Hello {name}')",
      "metadata": {
        "trusted": true
      },
      "execution_count": 3,
      "outputs": [
        {
          "name": "stdout",
          "text": "================== Hello Gent==================\nHello <Future pending>\n",
          "output_type": "stream"
        },
        {
          "output_type": "stream",
          "name": "stdin",
          "text": "Type your Name Najeeb M. Ghaleb\n"
        }
      ]
    },
    {
      "cell_type": "markdown",
      "source": ".one\n--\n.two\n--\n\nSN   Item   Price\n--------------------\n01  Apple   1$\n01 Oragne   05$\n\n\nwww.yahoo.com\n",
      "metadata": {}
    },
    {
      "cell_type": "code",
      "source": "",
      "metadata": {},
      "execution_count": null,
      "outputs": []
    }
  ]
}